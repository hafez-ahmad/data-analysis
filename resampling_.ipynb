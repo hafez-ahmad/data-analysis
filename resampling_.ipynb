{
  "nbformat": 4,
  "nbformat_minor": 0,
  "metadata": {
    "colab": {
      "name": "resampling .ipynb",
      "version": "0.3.2",
      "provenance": []
    },
    "kernelspec": {
      "name": "python3",
      "display_name": "Python 3"
    }
  },
  "cells": [
    {
      "metadata": {
        "id": "ulJY9Zi9mjay",
        "colab_type": "code",
        "colab": {}
      },
      "cell_type": "code",
      "source": [
        "import pandas as pd\n",
        "import numpy as np"
      ],
      "execution_count": 0,
      "outputs": []
    },
    {
      "metadata": {
        "id": "BAmCIHPZmxh0",
        "colab_type": "code",
        "colab": {}
      },
      "cell_type": "code",
      "source": [
        "range=pd.date_range('2018-01-01','2018-12-31',freq='15min')"
      ],
      "execution_count": 0,
      "outputs": []
    },
    {
      "metadata": {
        "id": "F3_o9XjKnVT2",
        "colab_type": "code",
        "colab": {}
      },
      "cell_type": "code",
      "source": [
        "df=pd.DataFrame(index=range)"
      ],
      "execution_count": 0,
      "outputs": []
    },
    {
      "metadata": {
        "id": "j4qIhiq9nba5",
        "colab_type": "code",
        "colab": {
          "base_uri": "https://localhost:8080/",
          "height": 34
        },
        "outputId": "f377313b-0723-4f70-93b3-923d5ecf12cf"
      },
      "cell_type": "code",
      "source": [
        "df.shape"
      ],
      "execution_count": 4,
      "outputs": [
        {
          "output_type": "execute_result",
          "data": {
            "text/plain": [
              "(34945, 0)"
            ]
          },
          "metadata": {
            "tags": []
          },
          "execution_count": 4
        }
      ]
    },
    {
      "metadata": {
        "id": "ag2UyTXpnc4N",
        "colab_type": "code",
        "colab": {}
      },
      "cell_type": "code",
      "source": [
        "df['rain']=np.random.randint(low=0,high=100,size=len(df.index))"
      ],
      "execution_count": 0,
      "outputs": []
    },
    {
      "metadata": {
        "id": "RyL1jBbXnwkn",
        "colab_type": "code",
        "colab": {
          "base_uri": "https://localhost:8080/",
          "height": 204
        },
        "outputId": "56ebe7d8-20b4-41b4-bfa9-4a47015c2adc"
      },
      "cell_type": "code",
      "source": [
        "df.head()"
      ],
      "execution_count": 8,
      "outputs": [
        {
          "output_type": "execute_result",
          "data": {
            "text/html": [
              "<div>\n",
              "<style scoped>\n",
              "    .dataframe tbody tr th:only-of-type {\n",
              "        vertical-align: middle;\n",
              "    }\n",
              "\n",
              "    .dataframe tbody tr th {\n",
              "        vertical-align: top;\n",
              "    }\n",
              "\n",
              "    .dataframe thead th {\n",
              "        text-align: right;\n",
              "    }\n",
              "</style>\n",
              "<table border=\"1\" class=\"dataframe\">\n",
              "  <thead>\n",
              "    <tr style=\"text-align: right;\">\n",
              "      <th></th>\n",
              "      <th>length</th>\n",
              "      <th>rain</th>\n",
              "    </tr>\n",
              "  </thead>\n",
              "  <tbody>\n",
              "    <tr>\n",
              "      <th>2018-01-01 00:00:00</th>\n",
              "      <td>28</td>\n",
              "      <td>15</td>\n",
              "    </tr>\n",
              "    <tr>\n",
              "      <th>2018-01-01 00:15:00</th>\n",
              "      <td>7</td>\n",
              "      <td>10</td>\n",
              "    </tr>\n",
              "    <tr>\n",
              "      <th>2018-01-01 00:30:00</th>\n",
              "      <td>34</td>\n",
              "      <td>12</td>\n",
              "    </tr>\n",
              "    <tr>\n",
              "      <th>2018-01-01 00:45:00</th>\n",
              "      <td>18</td>\n",
              "      <td>93</td>\n",
              "    </tr>\n",
              "    <tr>\n",
              "      <th>2018-01-01 01:00:00</th>\n",
              "      <td>4</td>\n",
              "      <td>45</td>\n",
              "    </tr>\n",
              "  </tbody>\n",
              "</table>\n",
              "</div>"
            ],
            "text/plain": [
              "                     length  rain\n",
              "2018-01-01 00:00:00      28    15\n",
              "2018-01-01 00:15:00       7    10\n",
              "2018-01-01 00:30:00      34    12\n",
              "2018-01-01 00:45:00      18    93\n",
              "2018-01-01 01:00:00       4    45"
            ]
          },
          "metadata": {
            "tags": []
          },
          "execution_count": 8
        }
      ]
    },
    {
      "metadata": {
        "id": "ECJv7lj0nyeR",
        "colab_type": "code",
        "colab": {}
      },
      "cell_type": "code",
      "source": [
        "df['water level']=df['rain']*df['length']"
      ],
      "execution_count": 0,
      "outputs": []
    },
    {
      "metadata": {
        "id": "CVCnwI-RoIHS",
        "colab_type": "code",
        "colab": {
          "base_uri": "https://localhost:8080/",
          "height": 204
        },
        "outputId": "7799b008-b203-4d40-b527-414c2d5bb702"
      },
      "cell_type": "code",
      "source": [
        "df.tail()"
      ],
      "execution_count": 11,
      "outputs": [
        {
          "output_type": "execute_result",
          "data": {
            "text/html": [
              "<div>\n",
              "<style scoped>\n",
              "    .dataframe tbody tr th:only-of-type {\n",
              "        vertical-align: middle;\n",
              "    }\n",
              "\n",
              "    .dataframe tbody tr th {\n",
              "        vertical-align: top;\n",
              "    }\n",
              "\n",
              "    .dataframe thead th {\n",
              "        text-align: right;\n",
              "    }\n",
              "</style>\n",
              "<table border=\"1\" class=\"dataframe\">\n",
              "  <thead>\n",
              "    <tr style=\"text-align: right;\">\n",
              "      <th></th>\n",
              "      <th>length</th>\n",
              "      <th>rain</th>\n",
              "      <th>water level</th>\n",
              "    </tr>\n",
              "  </thead>\n",
              "  <tbody>\n",
              "    <tr>\n",
              "      <th>2018-12-30 23:00:00</th>\n",
              "      <td>89</td>\n",
              "      <td>65</td>\n",
              "      <td>5785</td>\n",
              "    </tr>\n",
              "    <tr>\n",
              "      <th>2018-12-30 23:15:00</th>\n",
              "      <td>30</td>\n",
              "      <td>9</td>\n",
              "      <td>270</td>\n",
              "    </tr>\n",
              "    <tr>\n",
              "      <th>2018-12-30 23:30:00</th>\n",
              "      <td>7</td>\n",
              "      <td>80</td>\n",
              "      <td>560</td>\n",
              "    </tr>\n",
              "    <tr>\n",
              "      <th>2018-12-30 23:45:00</th>\n",
              "      <td>94</td>\n",
              "      <td>35</td>\n",
              "      <td>3290</td>\n",
              "    </tr>\n",
              "    <tr>\n",
              "      <th>2018-12-31 00:00:00</th>\n",
              "      <td>39</td>\n",
              "      <td>91</td>\n",
              "      <td>3549</td>\n",
              "    </tr>\n",
              "  </tbody>\n",
              "</table>\n",
              "</div>"
            ],
            "text/plain": [
              "                     length  rain  water level\n",
              "2018-12-30 23:00:00      89    65         5785\n",
              "2018-12-30 23:15:00      30     9          270\n",
              "2018-12-30 23:30:00       7    80          560\n",
              "2018-12-30 23:45:00      94    35         3290\n",
              "2018-12-31 00:00:00      39    91         3549"
            ]
          },
          "metadata": {
            "tags": []
          },
          "execution_count": 11
        }
      ]
    },
    {
      "metadata": {
        "id": "N6vAAVhjoPgO",
        "colab_type": "code",
        "colab": {}
      },
      "cell_type": "code",
      "source": [
        "import matplotlib.pyplot as plt"
      ],
      "execution_count": 0,
      "outputs": []
    },
    {
      "metadata": {
        "id": "Fd9KC3OLod-R",
        "colab_type": "code",
        "colab": {
          "base_uri": "https://localhost:8080/",
          "height": 375
        },
        "outputId": "8bae7372-249f-487e-e722-c6a28f95734d"
      },
      "cell_type": "code",
      "source": [
        "df['rain'].plot()"
      ],
      "execution_count": 17,
      "outputs": [
        {
          "output_type": "execute_result",
          "data": {
            "text/plain": [
              "<matplotlib.axes._subplots.AxesSubplot at 0x7faa85e04128>"
            ]
          },
          "metadata": {
            "tags": []
          },
          "execution_count": 17
        },
        {
          "output_type": "display_data",
          "data": {
            "image/png": "[encoded data removed]",
            "text/plain": [
              "<matplotlib.figure.Figure at 0x7faa8666cf28>"
            ]
          },
          "metadata": {
            "tags": []
          }
        }
      ]
    },
    {
      "metadata": {
        "id": "CUbwrrdPosA-",
        "colab_type": "code",
        "colab": {}
      },
      "cell_type": "code",
      "source": [
        "# resample\n",
        "\n",
        "\n",
        "weekly=pd.DataFrame()"
      ],
      "execution_count": 0,
      "outputs": []
    },
    {
      "metadata": {
        "id": "q8tPWszMpWUq",
        "colab_type": "code",
        "colab": {
          "base_uri": "https://localhost:8080/",
          "height": 32
        },
        "outputId": "e2cb5b35-4596-4b62-c6f4-f6522b4d52f0"
      },
      "cell_type": "code",
      "source": [
        "weekly"
      ],
      "execution_count": 19,
      "outputs": [
        {
          "output_type": "execute_result",
          "data": {
            "text/html": [
              "<div>\n",
              "<style scoped>\n",
              "    .dataframe tbody tr th:only-of-type {\n",
              "        vertical-align: middle;\n",
              "    }\n",
              "\n",
              "    .dataframe tbody tr th {\n",
              "        vertical-align: top;\n",
              "    }\n",
              "\n",
              "    .dataframe thead th {\n",
              "        text-align: right;\n",
              "    }\n",
              "</style>\n",
              "<table border=\"1\" class=\"dataframe\">\n",
              "  <thead>\n",
              "    <tr style=\"text-align: right;\">\n",
              "      <th></th>\n",
              "    </tr>\n",
              "  </thead>\n",
              "  <tbody>\n",
              "  </tbody>\n",
              "</table>\n",
              "</div>"
            ],
            "text/plain": [
              "Empty DataFrame\n",
              "Columns: []\n",
              "Index: []"
            ]
          },
          "metadata": {
            "tags": []
          },
          "execution_count": 19
        }
      ]
    },
    {
      "metadata": {
        "id": "v6e3_O0_pXzr",
        "colab_type": "code",
        "colab": {}
      },
      "cell_type": "code",
      "source": [
        "weekly['rain']=df.rain.resample('w').mean()"
      ],
      "execution_count": 0,
      "outputs": []
    },
    {
      "metadata": {
        "id": "HL_SbBvHpiqX",
        "colab_type": "code",
        "colab": {
          "base_uri": "https://localhost:8080/",
          "height": 204
        },
        "outputId": "ce48f1a0-ff27-4d30-f0ac-8125c99802bc"
      },
      "cell_type": "code",
      "source": [
        "weekly.head()"
      ],
      "execution_count": 21,
      "outputs": [
        {
          "output_type": "execute_result",
          "data": {
            "text/html": [
              "<div>\n",
              "<style scoped>\n",
              "    .dataframe tbody tr th:only-of-type {\n",
              "        vertical-align: middle;\n",
              "    }\n",
              "\n",
              "    .dataframe tbody tr th {\n",
              "        vertical-align: top;\n",
              "    }\n",
              "\n",
              "    .dataframe thead th {\n",
              "        text-align: right;\n",
              "    }\n",
              "</style>\n",
              "<table border=\"1\" class=\"dataframe\">\n",
              "  <thead>\n",
              "    <tr style=\"text-align: right;\">\n",
              "      <th></th>\n",
              "      <th>rain</th>\n",
              "    </tr>\n",
              "  </thead>\n",
              "  <tbody>\n",
              "    <tr>\n",
              "      <th>2018-01-07</th>\n",
              "      <td>49.529762</td>\n",
              "    </tr>\n",
              "    <tr>\n",
              "      <th>2018-01-14</th>\n",
              "      <td>49.129464</td>\n",
              "    </tr>\n",
              "    <tr>\n",
              "      <th>2018-01-21</th>\n",
              "      <td>48.306548</td>\n",
              "    </tr>\n",
              "    <tr>\n",
              "      <th>2018-01-28</th>\n",
              "      <td>48.523810</td>\n",
              "    </tr>\n",
              "    <tr>\n",
              "      <th>2018-02-04</th>\n",
              "      <td>49.223214</td>\n",
              "    </tr>\n",
              "  </tbody>\n",
              "</table>\n",
              "</div>"
            ],
            "text/plain": [
              "                 rain\n",
              "2018-01-07  49.529762\n",
              "2018-01-14  49.129464\n",
              "2018-01-21  48.306548\n",
              "2018-01-28  48.523810\n",
              "2018-02-04  49.223214"
            ]
          },
          "metadata": {
            "tags": []
          },
          "execution_count": 21
        }
      ]
    },
    {
      "metadata": {
        "id": "A1aic9Gupk-I",
        "colab_type": "code",
        "colab": {
          "base_uri": "https://localhost:8080/",
          "height": 375
        },
        "outputId": "0032d318-0423-41f0-abad-37359a3caee5"
      },
      "cell_type": "code",
      "source": [
        "weekly.plot()"
      ],
      "execution_count": 22,
      "outputs": [
        {
          "output_type": "execute_result",
          "data": {
            "text/plain": [
              "<matplotlib.axes._subplots.AxesSubplot at 0x7faa85ab58d0>"
            ]
          },
          "metadata": {
            "tags": []
          },
          "execution_count": 22
        },
        {
          "output_type": "display_data",
          "data": {
            "image/png": "[encoded data removed]",
            "text/plain": [
              "<matplotlib.figure.Figure at 0x7faa85abbbe0>"
            ]
          },
          "metadata": {
            "tags": []
          }
        }
      ]
    },
    {
      "metadata": {
        "id": "OYVNDJJGpqPO",
        "colab_type": "code",
        "colab": {
          "base_uri": "https://localhost:8080/",
          "height": 173
        },
        "outputId": "c5dbaac7-7e80-4a19-9509-a2e8096248df"
      },
      "cell_type": "code",
      "source": [
        "weekly.truncate(before='2018-03-12',after='2018-04-12')"
      ],
      "execution_count": 23,
      "outputs": [
        {
          "output_type": "execute_result",
          "data": {
            "text/html": [
              "<div>\n",
              "<style scoped>\n",
              "    .dataframe tbody tr th:only-of-type {\n",
              "        vertical-align: middle;\n",
              "    }\n",
              "\n",
              "    .dataframe tbody tr th {\n",
              "        vertical-align: top;\n",
              "    }\n",
              "\n",
              "    .dataframe thead th {\n",
              "        text-align: right;\n",
              "    }\n",
              "</style>\n",
              "<table border=\"1\" class=\"dataframe\">\n",
              "  <thead>\n",
              "    <tr style=\"text-align: right;\">\n",
              "      <th></th>\n",
              "      <th>rain</th>\n",
              "    </tr>\n",
              "  </thead>\n",
              "  <tbody>\n",
              "    <tr>\n",
              "      <th>2018-03-18</th>\n",
              "      <td>50.715774</td>\n",
              "    </tr>\n",
              "    <tr>\n",
              "      <th>2018-03-25</th>\n",
              "      <td>48.766369</td>\n",
              "    </tr>\n",
              "    <tr>\n",
              "      <th>2018-04-01</th>\n",
              "      <td>51.105655</td>\n",
              "    </tr>\n",
              "    <tr>\n",
              "      <th>2018-04-08</th>\n",
              "      <td>50.596726</td>\n",
              "    </tr>\n",
              "  </tbody>\n",
              "</table>\n",
              "</div>"
            ],
            "text/plain": [
              "                 rain\n",
              "2018-03-18  50.715774\n",
              "2018-03-25  48.766369\n",
              "2018-04-01  51.105655\n",
              "2018-04-08  50.596726"
            ]
          },
          "metadata": {
            "tags": []
          },
          "execution_count": 23
        }
      ]
    },
    {
      "metadata": {
        "id": "DzfvFl_Up9zF",
        "colab_type": "code",
        "colab": {
          "base_uri": "https://localhost:8080/",
          "height": 282
        },
        "outputId": "5efc1dbb-a1e1-4dbc-d714-10f5ecc2d19f"
      },
      "cell_type": "code",
      "source": [
        "weekly.truncate(before='2018-05-12',after='2018-04-12')"
      ],
      "execution_count": 24,
      "outputs": [
        {
          "output_type": "error",
          "ename": "ValueError",
          "evalue": "ignored",
          "traceback": [
            "\u001b[0;31m---------------------------------------------------------------------------\u001b[0m",
            "\u001b[0;31mValueError\u001b[0m                                Traceback (most recent call last)",
            "\u001b[0;32m<ipython-input-24-7bbb66ae9dd1>\u001b[0m in \u001b[0;36m<module>\u001b[0;34m()\u001b[0m\n\u001b[0;32m----> 1\u001b[0;31m \u001b[0mweekly\u001b[0m\u001b[0;34m.\u001b[0m\u001b[0mtruncate\u001b[0m\u001b[0;34m(\u001b[0m\u001b[0mbefore\u001b[0m\u001b[0;34m=\u001b[0m\u001b[0;34m'2018-05-12'\u001b[0m\u001b[0;34m,\u001b[0m\u001b[0mafter\u001b[0m\u001b[0;34m=\u001b[0m\u001b[0;34m'2018-04-12'\u001b[0m\u001b[0;34m)\u001b[0m\u001b[0;34m\u001b[0m\u001b[0m\n\u001b[0m",
            "\u001b[0;32m/usr/local/lib/python3.6/dist-packages/pandas/core/generic.py\u001b[0m in \u001b[0;36mtruncate\u001b[0;34m(self, before, after, axis, copy)\u001b[0m\n\u001b[1;32m   6367\u001b[0m             \u001b[0;32mif\u001b[0m \u001b[0mbefore\u001b[0m \u001b[0;34m>\u001b[0m \u001b[0mafter\u001b[0m\u001b[0;34m:\u001b[0m\u001b[0;34m\u001b[0m\u001b[0m\n\u001b[1;32m   6368\u001b[0m                 raise ValueError('Truncate: %s must be after %s' %\n\u001b[0;32m-> 6369\u001b[0;31m                                  (after, before))\n\u001b[0m\u001b[1;32m   6370\u001b[0m \u001b[0;34m\u001b[0m\u001b[0m\n\u001b[1;32m   6371\u001b[0m         \u001b[0mslicer\u001b[0m \u001b[0;34m=\u001b[0m \u001b[0;34m[\u001b[0m\u001b[0mslice\u001b[0m\u001b[0;34m(\u001b[0m\u001b[0;32mNone\u001b[0m\u001b[0;34m,\u001b[0m \u001b[0;32mNone\u001b[0m\u001b[0;34m)\u001b[0m\u001b[0;34m]\u001b[0m \u001b[0;34m*\u001b[0m \u001b[0mself\u001b[0m\u001b[0;34m.\u001b[0m\u001b[0m_AXIS_LEN\u001b[0m\u001b[0;34m\u001b[0m\u001b[0m\n",
            "\u001b[0;31mValueError\u001b[0m: Truncate: 2018-04-12 00:00:00 must be after 2018-05-12 00:00:00"
          ]
        }
      ]
    },
    {
      "metadata": {
        "id": "5VqDIFTWqFwT",
        "colab_type": "code",
        "colab": {
          "base_uri": "https://localhost:8080/",
          "height": 297
        },
        "outputId": "24d72780-5cf3-4d22-a5c2-ea5085ab8037"
      },
      "cell_type": "code",
      "source": [
        "weekly.truncate(before='2018-03-12',after='2018-05-12')"
      ],
      "execution_count": 25,
      "outputs": [
        {
          "output_type": "execute_result",
          "data": {
            "text/html": [
              "<div>\n",
              "<style scoped>\n",
              "    .dataframe tbody tr th:only-of-type {\n",
              "        vertical-align: middle;\n",
              "    }\n",
              "\n",
              "    .dataframe tbody tr th {\n",
              "        vertical-align: top;\n",
              "    }\n",
              "\n",
              "    .dataframe thead th {\n",
              "        text-align: right;\n",
              "    }\n",
              "</style>\n",
              "<table border=\"1\" class=\"dataframe\">\n",
              "  <thead>\n",
              "    <tr style=\"text-align: right;\">\n",
              "      <th></th>\n",
              "      <th>rain</th>\n",
              "    </tr>\n",
              "  </thead>\n",
              "  <tbody>\n",
              "    <tr>\n",
              "      <th>2018-03-18</th>\n",
              "      <td>50.715774</td>\n",
              "    </tr>\n",
              "    <tr>\n",
              "      <th>2018-03-25</th>\n",
              "      <td>48.766369</td>\n",
              "    </tr>\n",
              "    <tr>\n",
              "      <th>2018-04-01</th>\n",
              "      <td>51.105655</td>\n",
              "    </tr>\n",
              "    <tr>\n",
              "      <th>2018-04-08</th>\n",
              "      <td>50.596726</td>\n",
              "    </tr>\n",
              "    <tr>\n",
              "      <th>2018-04-15</th>\n",
              "      <td>48.206845</td>\n",
              "    </tr>\n",
              "    <tr>\n",
              "      <th>2018-04-22</th>\n",
              "      <td>50.599702</td>\n",
              "    </tr>\n",
              "    <tr>\n",
              "      <th>2018-04-29</th>\n",
              "      <td>47.133929</td>\n",
              "    </tr>\n",
              "    <tr>\n",
              "      <th>2018-05-06</th>\n",
              "      <td>48.750000</td>\n",
              "    </tr>\n",
              "  </tbody>\n",
              "</table>\n",
              "</div>"
            ],
            "text/plain": [
              "                 rain\n",
              "2018-03-18  50.715774\n",
              "2018-03-25  48.766369\n",
              "2018-04-01  51.105655\n",
              "2018-04-08  50.596726\n",
              "2018-04-15  48.206845\n",
              "2018-04-22  50.599702\n",
              "2018-04-29  47.133929\n",
              "2018-05-06  48.750000"
            ]
          },
          "metadata": {
            "tags": []
          },
          "execution_count": 25
        }
      ]
    },
    {
      "metadata": {
        "id": "zX1dyqb1qJWY",
        "colab_type": "code",
        "colab": {}
      },
      "cell_type": "code",
      "source": [
        "# w= weekly , MS =monthly, H=hourly, M =month end , AS =year start , B=busriness day , "
      ],
      "execution_count": 0,
      "outputs": []
    }
  ]
}